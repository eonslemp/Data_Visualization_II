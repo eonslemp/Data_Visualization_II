{
 "cells": [
  {
   "cell_type": "markdown",
   "metadata": {},
   "source": [
    "# Data Visualization II\n",
    "\n",
    "![](images/look_at_this_graph.gif)"
   ]
  },
  {
   "cell_type": "markdown",
   "metadata": {},
   "source": [
    "## Seaborn \n",
    "\n",
    "[Seaborn Gallery](https://seaborn.pydata.org/examples/index.html)\n",
    "\n",
    "[List of Graphing Methods for Seaborn](https://seaborn.pydata.org/api.html#relational-api)\n",
    "\n",
    "Seaborn is a wrapper around matplotlib which provides a high-level interface for drawing attractive and informative statistical graphics.\n",
    "\n",
    "Some advantages of using seaborn over matplotlib:\n",
    "\n",
    "- it uses fewer syntax \n",
    "- it has easily interesting default themes\n",
    "- it specializes in statistics visualization\n",
    "- it is more integrated with pandas\n",
    "- works with dataframes on the whole and is more intuitive than matplotlib"
   ]
  },
  {
   "cell_type": "markdown",
   "metadata": {},
   "source": [
    "#### Let's use Seaborn to recreate some of the graphs we made yesterday with the weight-height dataset."
   ]
  },
  {
   "cell_type": "code",
   "execution_count": null,
   "metadata": {},
   "outputs": [],
   "source": [
    "import seaborn as sns\n",
    "from matplotlib import pyplot as plt\n",
    "import pandas as pd\n",
    "import numpy as np\n",
    "from scipy import stats"
   ]
  },
  {
   "cell_type": "code",
   "execution_count": null,
   "metadata": {},
   "outputs": [],
   "source": [
    "data = pd.read_csv('./data/weight-height.csv')\n",
    "data"
   ]
  },
  {
   "cell_type": "markdown",
   "metadata": {},
   "source": [
    "### Let's start with a scatterplot of height and weight!"
   ]
  },
  {
   "cell_type": "code",
   "execution_count": null,
   "metadata": {},
   "outputs": [],
   "source": [
    "# The `style` parameter can be set equal to\n",
    "# 'white', 'dark', 'whitegrid', 'darkgrid', or\n",
    "# 'ticks'\n",
    "\n",
    "sns.set(style='whitegrid')\n",
    "fig, ax = plt.subplots()\n",
    "sns.scatterplot(data=data, x='Height', y='Weight', ax=ax)\n",
    "plt.show()"
   ]
  },
  {
   "cell_type": "markdown",
   "metadata": {},
   "source": [
    "### Now we can adjust so that the males and females have different colored dots"
   ]
  },
  {
   "cell_type": "code",
   "execution_count": null,
   "metadata": {},
   "outputs": [],
   "source": [
    "fig, ax = plt.subplots()\n",
    "sns.scatterplot(data=data, x='Height', y='Weight', ax=ax, hue='Gender')\n",
    "plt.show()"
   ]
  },
  {
   "cell_type": "markdown",
   "metadata": {},
   "source": [
    "### Great!  But now we should add a title!"
   ]
  },
  {
   "cell_type": "code",
   "execution_count": null,
   "metadata": {},
   "outputs": [],
   "source": [
    "fig, ax = plt.subplots()\n",
    "sns.scatterplot(data=data, x='Height', y='Weight', ax=ax, hue='Gender')\n",
    "ax.set_title(\"Height and Weight by Gender\")\n",
    "plt.show()"
   ]
  },
  {
   "cell_type": "markdown",
   "metadata": {},
   "source": [
    "### Your Turn!\n",
    "\n",
    "Create a histogram of weight using `.distplot()` and tweak the graph so that:\n",
    "- the kernel density estimate (KDE) is not displayed\n",
    "- the plot is purple\n",
    "- you have 25 bins\n",
    "- you have x and y axis labels \n",
    "- your graph has a title\n"
   ]
  },
  {
   "cell_type": "code",
   "execution_count": null,
   "metadata": {},
   "outputs": [],
   "source": [
    "#your code here"
   ]
  },
  {
   "cell_type": "markdown",
   "metadata": {},
   "source": [
    "## Pandas Plotting\n",
    "\n",
    "\n",
    "Pandas also has some plotting capabilities the sit on top of matplotlib just like seaborn does.  These methods can simplify the process of creating data visualiations from a pandas dataframe or series. [See documentation](https://pandas.pydata.org/pandas-docs/stable/reference/api/pandas.DataFrame.plot.html) for more specifics.\n",
    "\n",
    "Advantages of using pandas built in plotting:\n",
    "- helpful when you have a meaningful index\n",
    "- can use when you have a `.value_counts()` or a `.groupby()` statement"
   ]
  },
  {
   "cell_type": "markdown",
   "metadata": {},
   "source": [
    "#### Let's start with a box plot of heights in pandas!\n",
    "\n",
    "Check out [`.plot` documentation](https://pandas.pydata.org/pandas-docs/stable/reference/api/pandas.DataFrame.plot.html) for how we create a box plot."
   ]
  },
  {
   "cell_type": "code",
   "execution_count": null,
   "metadata": {},
   "outputs": [],
   "source": [
    "data.Height.plot(kind='box', title=\"Boxplot of Height\")"
   ]
  },
  {
   "cell_type": "markdown",
   "metadata": {},
   "source": [
    "#### Now what if we wanted to create one boxplot based on gender?\n",
    "\n",
    " Here we need to use the `.boxplot()` function and the `by` argument."
   ]
  },
  {
   "cell_type": "code",
   "execution_count": null,
   "metadata": {},
   "outputs": [],
   "source": [
    "fig, ax = plt.subplots()\n",
    "data.boxplot(column=['Height'], by=['Gender'], ax=ax)\n",
    "ax.set_ylabel('Height in inches')\n",
    "ax.set_xlabel(\"Gender\")\n",
    "ax.set_title('Boxplot by Gender')\n",
    "fig.suptitle(\"\") # takes off the title automatically added by boxplot\n",
    "plt.show()"
   ]
  },
  {
   "cell_type": "markdown",
   "metadata": {},
   "source": [
    "### Your Turn!\n",
    "\n",
    "Create a bar char of average weight by gender using a `.groupby` and `.plot()` and tweak the graph so that:\n",
    "- the bars are in red\n",
    "- you have x and y axis labels \n",
    "- your graph has a title\n"
   ]
  },
  {
   "cell_type": "code",
   "execution_count": null,
   "metadata": {},
   "outputs": [],
   "source": [
    "#your code here"
   ]
  },
  {
   "cell_type": "markdown",
   "metadata": {
    "hidden": true
   },
   "source": [
    "## Things to avoid\n",
    "\n",
    "<img src=\"https://media.giphy.com/media/10NNJitHXAZnqw/giphy.gif\" width=300 />\n",
    "\n",
    "### The Pie chart!\n",
    "\n",
    "<img src=\"http://25.media.tumblr.com/tumblr_m5fvbaESL71r5mnvxo1_250.gif\" width=600 />\n",
    "\n",
    "Pie charts are something to avoid for the following reasons:\n",
    "- The human eye is bad at giving quantitative value to two-dimensional space\n",
    "- They are hard from people to read\n",
    "- when segments are close in size it is difficult to tell which is bigger\n",
    "\n",
    "###  Donut Charts\n",
    "\n",
    "![](https://www.amcharts.com/wp-content/uploads/2013/11/demo_129_none.png)\n",
    "\n",
    "Donut charts basically have all the same negatives of the pie chart and add an additional challenge - the audience now has to compare arc lengths!\n",
    "\n",
    "### 3D\n",
    "\n",
    "![](https://i.stack.imgur.com/2cFRH.png)\n",
    "\n",
    "3D should be avoided in charts unless you are actually plotting a 3rd dimension.  3D is bad because:\n",
    "- 3D skews our numbers, making them more difficult to compare\n",
    "- It adds unnecessary chart elements that can be distracting\n",
    "- The heights of bars are often hard to determine\n",
    "\n",
    "### Secondary y-axis \n",
    "\n",
    "![](https://i.stack.imgur.com/G3fc4.png)\n",
    "\n",
    "A secondary y-axis is used to compare two variables that are on different scales on the same graph.\n",
    "\n",
    "- The secondary axis makes it more difficult to read\n",
    "- You have to work hard to figure out which axis goes with which data\n",
    "\n",
    "Instead of using a secondary axis, pull the graphs apart vertically to use the same x-axis\n"
   ]
  },
  {
   "cell_type": "markdown",
   "metadata": {},
   "source": [
    "## Elements of your graph you CAN adjust\n",
    "\n",
    "And in many cases you probably should!"
   ]
  },
  {
   "cell_type": "markdown",
   "metadata": {
    "heading_collapsed": true,
    "hidden": true
   },
   "source": [
    "### Shape of data points"
   ]
  },
  {
   "cell_type": "markdown",
   "metadata": {
    "hidden": true
   },
   "source": [
    "It is often helpful to change the shape of data points to better distinguish points within groups.  This is particularly useful when you can't use color.\n",
    "\n",
    "![](https://seaborn.pydata.org/_images/scatterplot_7_0.png)\n",
    "![](https://seaborn.pydata.org/_images/seaborn-boxplot-5.png)"
   ]
  },
  {
   "cell_type": "markdown",
   "metadata": {
    "heading_collapsed": true,
    "hidden": true
   },
   "source": [
    "### Color\n",
    "\n",
    "#### Tips for using color:\n",
    "- use it sparingly\n",
    "    - don't add color for the sake of it!\n",
    "- think about using brand colors\n",
    "- be consistent\n",
    "    - if you start with one color scheme stick with it throughout your presentation\n",
    "- start with black and white\n",
    "- use less intense colors \n",
    "    - not all the colors of the rainbow (NEVER USE SEABORN'S Rainbow default colors!!)\n",
    "    - easier on the eyes\n",
    "- communicate with color\n",
    "    - highlight interesting groups\n",
    "    - highlight your message (use gray for all data and then use a bold color to draw attention)\n",
    "    - show a continuum of values of one color scale vs a gradients that are like a rainbow\n",
    "    \n",
    "![](https://www.dataquest.io/wp-content/uploads/2019/01/full-180529_considercolor16.png)\n",
    "\n",
    "![](https://upload.wikimedia.org/wikipedia/en/timeline/15833eb5fd215305b5408fa1b9db622f.png)\n",
    "\n",
    "![](./images/rainbow.png)"
   ]
  },
  {
   "cell_type": "markdown",
   "metadata": {
    "heading_collapsed": true,
    "hidden": true
   },
   "source": [
    "### Be Considerate of Color blindness"
   ]
  },
  {
   "cell_type": "markdown",
   "metadata": {
    "hidden": true
   },
   "source": [
    "8% of men and half a percent of women are colorblind\n",
    "\n",
    "They will have trouble distinquishing between red and green\n",
    "\n",
    "Stay away from these color combinations\n",
    "\n",
    "<img src='https://cdns.tblsft.com/sites/default/files/blog/color2.png'/>\n",
    "\n",
    "https://www.tableau.com/about/blog/2016/4/examining-data-viz-rules-dont-use-red-green-together-53463"
   ]
  },
  {
   "cell_type": "markdown",
   "metadata": {},
   "source": [
    "## Saving your figures\n",
    "\n",
    "Finally you have the perfect figure for your presentation or readme file.  How do you get it there?  Should you take a screenshot?\n",
    "\n",
    "###  NO screenshots!  Save the plot!\n",
    "\n",
    "When we take a screenshot we will often have a resulting graph with poor resolution.  Instead we can use the `plt.savefig()` method to save out figures."
   ]
  },
  {
   "cell_type": "code",
   "execution_count": null,
   "metadata": {},
   "outputs": [],
   "source": [
    "fig, ax = plt.subplots()\n",
    "data.groupby('Gender').Weight.max().plot(kind='bar', rot=0)\n",
    "ax.set_xlabel('Gender')\n",
    "ax.set_ylabel('Max Weight')\n",
    "ax.set_title('Max Weight by Gender')\n",
    "fig.savefig('My_plot.png')\n"
   ]
  },
  {
   "cell_type": "markdown",
   "metadata": {},
   "source": [
    "## Your turn!  \n",
    "\n",
    "Create a visualization of your choice using the `car_insurance.csv` dataset.  Save out the figure you created!"
   ]
  },
  {
   "cell_type": "code",
   "execution_count": null,
   "metadata": {},
   "outputs": [],
   "source": [
    "#your code here"
   ]
  },
  {
   "cell_type": "markdown",
   "metadata": {},
   "source": [
    "## Formatting special values\n",
    "\n",
    "There are times in which you may want to format your tick marks so that they read as dollars or percentages.  You can use the [`matplotlib.ticker` module](https://matplotlib.org/3.1.1/gallery/pyplots/dollar_ticks.html) to format your tick marks to go above and beyond for your audence!\n",
    "\n",
    "![](https://matplotlib.org/3.1.1/_images/sphx_glr_dollar_ticks_001.png)"
   ]
  },
  {
   "cell_type": "markdown",
   "metadata": {},
   "source": [
    "![](https://media.giphy.com/media/3o6MbrACMlFCny8zmw/giphy.gif)"
   ]
  },
  {
   "cell_type": "code",
   "execution_count": null,
   "metadata": {},
   "outputs": [],
   "source": []
  }
 ],
 "metadata": {
  "kernelspec": {
   "display_name": "Python 3",
   "language": "python",
   "name": "python3"
  },
  "language_info": {
   "codemirror_mode": {
    "name": "ipython",
    "version": 3
   },
   "file_extension": ".py",
   "mimetype": "text/x-python",
   "name": "python",
   "nbconvert_exporter": "python",
   "pygments_lexer": "ipython3",
   "version": "3.7.3"
  }
 },
 "nbformat": 4,
 "nbformat_minor": 4
}
